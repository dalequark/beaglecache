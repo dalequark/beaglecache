{
 "metadata": {
  "name": "",
  "signature": "sha256:1fde69cb2c93832f17d4c256393127d231142eadbf2ab8bf10156876c668fc2d"
 },
 "nbformat": 3,
 "nbformat_minor": 0,
 "worksheets": [
  {
   "cells": [
    {
     "cell_type": "code",
     "collapsed": false,
     "input": [
      "import os\n",
      "import re\n",
      "root = \".\"\n",
      "includedFiles = []\n",
      "headerFiles = []\n",
      "pattern = r'\\\"(.+?)\\\"'\n",
      "for root, dirs, files in os.walk(root):\n",
      "    for fi in files:\n",
      "        if re.match(\"^.*\\.(h|c)$\", fi):\n",
      "            filePath = os.path.join(root, fi)\n",
      "            if re.match(\"^.*\\.(h)$\", fi):\n",
      "                headerFiles.append(fi)\n",
      "            f = open(filePath).read()\n",
      "            inc = re.findall(\".*#include.*\", f)\n",
      "            try:\n",
      "                for a in inc:\n",
      "                    if not re.match(\".*<\", a):\n",
      "                        for entry in re.findall(pattern,a):\n",
      "                            inc2.append(entry)\n",
      "            except:\n",
      "                pass\n",
      "            for entry in inc2:\n",
      "                if not entry in includedFiles:\n",
      "                    entry = entry[0] if type(entry) == list else entry\n",
      "                    includedFiles.append(entry)\n",
      "                    \n",
      "\n",
      "includedFiles = set(includedFiles)\n",
      "\n",
      "for f in includedFiles:\n",
      "    if not f in headerFiles:\n",
      "        print f\n"
     ],
     "language": "python",
     "metadata": {},
     "outputs": [
      {
       "output_type": "stream",
       "stream": "stdout",
       "text": [
        "applib.h\n",
        "scan.h\n",
        "ppphdlc.h\n",
        "defaults.h\n",
        "checksum.h\n",
        "hash.h\n",
        "czipdef.h\n",
        "ip_fragment.h\n",
        "watchdog.h\n",
        "queue.h\n",
        "ports.h\n",
        "pptpdefs.h\n",
        "our_syslog.h\n",
        "pqueue.h\n",
        "pptpgre.h\n",
        "gettimeofdayex.h\n",
        "debug.h\n",
        "GeoIP_internal.h\n",
        "ctrlpacket.h\n",
        "compat.h\n",
        "tcp.h\n",
        "pptpctrl.h\n"
       ]
      }
     ],
     "prompt_number": 127
    },
    {
     "cell_type": "code",
     "collapsed": false,
     "input": [],
     "language": "python",
     "metadata": {},
     "outputs": []
    }
   ],
   "metadata": {}
  }
 ]
}