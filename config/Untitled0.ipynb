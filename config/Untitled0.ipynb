{
 "metadata": {
  "name": "",
  "signature": "sha256:b15bd734a0030887a2a24fac16ea1cb067be53e9c76c27a3a36187733a96eb5f"
 },
 "nbformat": 3,
 "nbformat_minor": 0,
 "worksheets": [
  {
   "cells": [
    {
     "cell_type": "code",
     "collapsed": false,
     "input": [
      "f=open('./test')"
     ],
     "language": "python",
     "metadata": {},
     "outputs": [],
     "prompt_number": 1
    },
    {
     "cell_type": "code",
     "collapsed": false,
     "input": [
      "title1=\"[chunkSize-\"\n",
      "title2=\"]\\n stonewall\\n size=\"\n",
      "\n",
      "newTests = \"start\\n\"\n",
      "\n",
      "for i in range(512, 1048576, 512):\n",
      "    newTests.join(title1)\n",
      "\n"
     ],
     "language": "python",
     "metadata": {},
     "outputs": [
      {
       "output_type": "stream",
       "stream": "stdout",
       "text": [
        "dstart\n",
        "astart\n",
        "lstart\n",
        "e\n"
       ]
      }
     ],
     "prompt_number": 10
    },
    {
     "cell_type": "code",
     "collapsed": false,
     "input": [],
     "language": "python",
     "metadata": {},
     "outputs": []
    }
   ],
   "metadata": {}
  }
 ]
}