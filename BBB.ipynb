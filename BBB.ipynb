{
 "metadata": {
  "name": "",
  "signature": "sha256:b7f8a367ca6e148f43fd86849a98d08d86e6fa8dcd2774f18b3ca64ffe53045e"
 },
 "nbformat": 3,
 "nbformat_minor": 0,
 "worksheets": [
  {
   "cells": [
    {
     "cell_type": "markdown",
     "metadata": {},
     "source": [
      "# eMMC Testing #"
     ]
    },
    {
     "cell_type": "markdown",
     "metadata": {},
     "source": [
      "[Revisiting Storage for Smartphones](http://static.usenix.org/events/fast/tech/full_papers/Kim.pdf) gives a good overview of different performance characteristics on Android phones.  They find that random writes can be abysmal (0.02 MB/s or less). Also Kingston consistently performed the worst, and Transcent performs the best. They basically analyzed how different android apps performed with different eMMC memories, and even did some observation on web caching, which is useful."
     ]
    },
    {
     "cell_type": "markdown",
     "metadata": {},
     "source": [
      "##Random Read Only Throughput versus Percent Cache Size ##"
     ]
    },
    {
     "cell_type": "code",
     "collapsed": false,
     "input": [
      "# Random Read Config\n",
      "[global]\n",
      "ioengine=libaio\n",
      "direct=1\n",
      "group_reporting\n",
      "directory=disk\n",
      "filename=tf1\n",
      "fallocate=none\n",
      "\n",
      "[randread-200M]\n",
      "stonewall\n",
      "description= Random Read 200M\n",
      "rw=randread\n",
      "bs=4k\n",
      "numjobs=4\n",
      "size=200M\n",
      "\n",
      "\n",
      "[randread-600M]\n",
      "stonewall\n",
      "description= Random read 600M\n",
      "rw=randread\n",
      "bs=4k\n",
      "numjobs=4\n",
      "size=600M\n",
      "\n",
      "[randread-800M]\n",
      "stonewall\n",
      "description= Random Read 800M\n",
      "rw=randread\n",
      "bs=4k\n",
      "numjobs=4\n",
      "size=800M\n",
      "\n",
      "[randread-1000M]\n",
      "stonewall\n",
      "description= Random Read 1000M\n",
      "rw=randread\n",
      "bs=4k\n",
      "numjobs=4\n",
      "size=1000M\n",
      "\n",
      "[randread-1200M]\n",
      "stonewall\n",
      "description= Random Read 1200M\n",
      "rw=randread\n",
      "bs=4k\n",
      "numjobs=4\n",
      "size=1200M\n",
      "\n",
      "[randread-1600M]\n",
      "stonewall\n",
      "description= Random Read 1600M\n",
      "rw=randread\n",
      "bs=4k\n",
      "numjobs=4\n",
      "size=1600M\n"
     ],
     "language": "python",
     "metadata": {},
     "outputs": []
    },
    {
     "cell_type": "code",
     "collapsed": false,
     "input": [
      "rs = 'read status '\n",
      "s = 'submission latency '\n",
      "c = 'completion latency '\n",
      "clp = 'completion latency percentiles '\n",
      "tl = 'total latency '\n",
      "bw = 'bw '\n",
      "fioOut = [\n",
      "'terse version',\n",
      "'fio version',\n",
      "'jobname',\n",
      "'groupid',\n",
      "'error',\n",
      "'\n",
      "]\n",
      "\n",
      "if 'groupid' in fioOut: print fioOut.index('groupid')"
     ],
     "language": "python",
     "metadata": {},
     "outputs": [
      {
       "output_type": "stream",
       "stream": "stdout",
       "text": [
        "3\n"
       ]
      }
     ],
     "prompt_number": 13
    },
    {
     "cell_type": "code",
     "collapsed": false,
     "input": [
      "f = open('./outf')\n",
      "i = 0\n",
      "for line in f:\n",
      "    parsedLine = line.split(';')\n",
      "    for tag in fioOut:\n",
      "        print \"%s : %s\" % (tag, parsedLine[fioOut.index(tag)])\n",
      "    print '\\n'"
     ],
     "language": "python",
     "metadata": {},
     "outputs": [
      {
       "output_type": "stream",
       "stream": "stdout",
       "text": [
        "terse version : 3\n",
        "fio version : fio-2.1.3\n",
        "jobname : sequential-fill 50\n",
        "groupid : 0\n",
        "error : 0\n",
        "\n",
        "\n",
        "terse version : 3\n",
        "fio version : fio-2.1.3\n",
        "jobname : read-50M\n",
        "groupid : 1\n",
        "error : 0\n",
        "\n",
        "\n",
        "terse version : 3\n",
        "fio version : fio-2.1.3\n",
        "jobname : sequential-fill 100\n",
        "groupid : 2\n",
        "error : 0\n",
        "\n",
        "\n",
        "terse version : 3\n",
        "fio version : fio-2.1.3\n",
        "jobname : read-100M\n",
        "groupid : 3\n",
        "error : 0\n",
        "\n",
        "\n"
       ]
      }
     ],
     "prompt_number": 21
    },
    {
     "cell_type": "markdown",
     "metadata": {},
     "source": [
      "##Sequential Read Only Throughput versus Percent Cache Size ##"
     ]
    },
    {
     "cell_type": "markdown",
     "metadata": {},
     "source": [
      "## Random Write Only Throughput (in place) versus Percent Cache Size ##"
     ]
    },
    {
     "cell_type": "markdown",
     "metadata": {},
     "source": [
      "## Sequential Write Only Throughput (in place) versus Percent Cache Size ##"
     ]
    },
    {
     "cell_type": "markdown",
     "metadata": {},
     "source": [
      "## Varying Percent Read vs Write with Mixed Request Size ##"
     ]
    },
    {
     "cell_type": "raw",
     "metadata": {},
     "source": []
    }
   ],
   "metadata": {}
  }
 ]
}