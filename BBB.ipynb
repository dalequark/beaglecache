{
 "metadata": {
  "name": "",
  "signature": "sha256:f748b947acce226cbff070754776bdb34dc1855047fb712534da12dd30e1efc9"
 },
 "nbformat": 3,
 "nbformat_minor": 0,
 "worksheets": [
  {
   "cells": [
    {
     "cell_type": "markdown",
     "metadata": {},
     "source": [
      "# eMMC Testing #"
     ]
    },
    {
     "cell_type": "markdown",
     "metadata": {},
     "source": [
      "[Revisiting Storage for Smartphones](http://static.usenix.org/events/fast/tech/full_papers/Kim.pdf) gives a good overview of different performance characteristics on Android phones.  They find that random writes can be abysmal (0.02 MB/s or less). Also Kingston consistently performed the worst, and Transcent performs the best. They basically analyzed how different android apps performed with different eMMC memories, and even did some observation on web caching, which is useful."
     ]
    },
    {
     "cell_type": "markdown",
     "metadata": {},
     "source": [
      "##Random Read Only Throughput versus Percent Cache Size ##"
     ]
    },
    {
     "cell_type": "code",
     "collapsed": false,
     "input": [
      "# Random Read Config\n",
      "[global]\n",
      "ioengine=libaio\n",
      "direct=1\n",
      "group_reporting\n",
      "directory=disk\n",
      "filename=tf1\n",
      "fallocate=none\n",
      "\n",
      "[randread-200M]\n",
      "stonewall\n",
      "description= Random Read 200M\n",
      "rw=randread\n",
      "bs=4k\n",
      "numjobs=4\n",
      "size=200M\n",
      "\n",
      "\n",
      "[randread-600M]\n",
      "stonewall\n",
      "description= Random read 600M\n",
      "rw=randread\n",
      "bs=4k\n",
      "numjobs=4\n",
      "size=600M\n",
      "\n",
      "[randread-800M]\n",
      "stonewall\n",
      "description= Random Read 800M\n",
      "rw=randread\n",
      "bs=4k\n",
      "numjobs=4\n",
      "size=800M\n",
      "\n",
      "[randread-1000M]\n",
      "stonewall\n",
      "description= Random Read 1000M\n",
      "rw=randread\n",
      "bs=4k\n",
      "numjobs=4\n",
      "size=1000M\n",
      "\n",
      "[randread-1200M]\n",
      "stonewall\n",
      "description= Random Read 1200M\n",
      "rw=randread\n",
      "bs=4k\n",
      "numjobs=4\n",
      "size=1200M\n",
      "\n",
      "[randread-1600M]\n",
      "stonewall\n",
      "description= Random Read 1600M\n",
      "rw=randread\n",
      "bs=4k\n",
      "numjobs=4\n",
      "size=1600M\n"
     ],
     "language": "python",
     "metadata": {},
     "outputs": []
    },
    {
     "cell_type": "code",
     "collapsed": false,
     "input": [
      "rs = 'read_status_'\n",
      "r = 'r_'\n",
      "w = 'w_'\n",
      "s = 'submission_latency_'\n",
      "c = 'completion_latency_'\n",
      "clp = 'comp_lat_%_'\n",
      "tl = 'total_latency_'\n",
      "bw = 'bw_'\n",
      "ws = 'write_status_'\n",
      "iodepth = 'io_depth_%_'\n",
      "\n",
      "mmms = [\n",
      "'min', 'max', 'mean', 'stddev'\n",
      "]\n",
      "\n",
      "sumsMetrics = [\n",
      "    'total_io',\n",
      "    'bw',\n",
      "    'iops',\n",
      "    'runtime'\n",
      "]\n",
      "\n",
      "fioOut = [\n",
      "    'terse version',\n",
      "    'fio version',\n",
      "    'jobname',\n",
      "    'groupid',\n",
      "    'error'\n",
      "]\n",
      "\n",
      "cpuUsage = [\n",
      "    'user',\n",
      "    'system',\n",
      "    'context_switches',\n",
      "    'major_pfs',\n",
      "    'minor_pfs'\n",
      "]\n",
      "\n",
      "fioOut.extend([rs + stat for stat in sumsMetrics])\n",
      "fioOut.extend([r + s + stat for stat in mmms])\n",
      "fioOut.extend([r + c + stat for stat in mmms])\n",
      "fioOut.extend([r + clp + str(i) for i in range(0,20)])\n",
      "fioOut.extend([r + tl + stat for stat in mmms])\n",
      "fioOut.extend([r + bw + stat for stat in mmms])\n",
      "fioOut.extend([ws + stat for stat in sumsMetrics])\n",
      "fioOut.extend([w + s + stat for stat in mmms])\n",
      "fioOut.extend([w + c + stat for stat in mmms])\n",
      "fioOut.extend([w + clp + str(i) for i in range(0,20)])\n",
      "fioOut.extend([w + tl + stat for stat in mmms])\n",
      "fioOut.extend([w + bw + stat for stat in mmms])\n",
      "fioOut.extend([usage for usage in cpuUsage])\n",
      "fioOut.extend([iodepth + str(i) for i in ['<=1',2,4,8,16,'>=64' ]])\n",
      "\n",
      "\n",
      "highlights = [rs + stat for stat in sumsMetrics]\n",
      "\n",
      "highlights.extend([ws + stat for stat in sumsMetrics])\n",
      "\n",
      "\n",
      "fioOutTerse = {}\n",
      "for highlight in highlights:\n",
      "    fioOutTerse[highlight] = fioOut.index(highlight)\n",
      "    "
     ],
     "language": "python",
     "metadata": {},
     "outputs": [],
     "prompt_number": 54
    },
    {
     "cell_type": "code",
     "collapsed": false,
     "input": [
      "f = open('./results/randread1')\n",
      "i = 0\n",
      "print fioOutTerse\n",
      "for line in f:\n",
      "    parsedLine = line.split(';')\n",
      "    print \"\"\n",
      "    key = \"read_status_total_io\"\n",
      "    val = 'read_status_bw'\n",
      "    print \"%s : %s\" % (tag + \" \" + parsedLine[fioOutTerse[key]], parsedLine[fioOutTerse[val]])\n",
      "    #for tag in fioOutTerse:\n",
      "    #    print \"%s : %s\" % (tag, parsedLine[fioOutTerse[tag]])\n",
      "    print '\\n'"
     ],
     "language": "python",
     "metadata": {},
     "outputs": [
      {
       "output_type": "stream",
       "stream": "stdout",
       "text": [
        "{'read_status_runtime': 8, 'read_status_iops': 7, 'read_status_total_io': 5, 'write_status_total_io': 45, 'write_status_bw': 46, 'write_status_runtime': 48, 'read_status_bw': 6, 'write_status_iops': 47}\n",
        "\n",
        "read_status_bw 819200 : 11821\n",
        "\n",
        "\n",
        "\n",
        "read_status_bw 2457600 : 11684\n",
        "\n",
        "\n",
        "\n",
        "read_status_bw 3276800 : 11543\n",
        "\n",
        "\n",
        "\n",
        "read_status_bw 4096000 : 11777\n",
        "\n",
        "\n",
        "\n",
        "read_status_bw 4915200 : 11797\n",
        "\n",
        "\n",
        "\n",
        "read_status_bw 6553600 : 11838\n",
        "\n",
        "\n"
       ]
      }
     ],
     "prompt_number": 60
    },
    {
     "cell_type": "markdown",
     "metadata": {},
     "source": [
      "##Sequential Read Only Throughput versus Percent Cache Size ##"
     ]
    },
    {
     "cell_type": "markdown",
     "metadata": {},
     "source": [
      "## Random Write Only Throughput (in place) versus Percent Cache Size ##"
     ]
    },
    {
     "cell_type": "markdown",
     "metadata": {},
     "source": [
      "## Sequential Write Only Throughput (in place) versus Percent Cache Size ##"
     ]
    },
    {
     "cell_type": "markdown",
     "metadata": {},
     "source": [
      "## Varying Percent Read vs Write with Mixed Request Size ##"
     ]
    },
    {
     "cell_type": "raw",
     "metadata": {},
     "source": []
    }
   ],
   "metadata": {}
  }
 ]
}